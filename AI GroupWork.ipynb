{
 "cells": [
  {
   "cell_type": "code",
   "execution_count": 2,
   "id": "broken-wednesday",
   "metadata": {},
   "outputs": [],
   "source": [
    "#import all the necessary libraries\n",
    "import pandas as pd\n",
    "import numpy as np\n",
    "import matplotlib.pyplot as plt\n",
    "from sklearn import linear_model"
   ]
  },
  {
   "cell_type": "code",
   "execution_count": 3,
   "id": "classical-least",
   "metadata": {},
   "outputs": [
    {
     "data": {
      "text/html": [
       "<div>\n",
       "<style scoped>\n",
       "    .dataframe tbody tr th:only-of-type {\n",
       "        vertical-align: middle;\n",
       "    }\n",
       "\n",
       "    .dataframe tbody tr th {\n",
       "        vertical-align: top;\n",
       "    }\n",
       "\n",
       "    .dataframe thead th {\n",
       "        text-align: right;\n",
       "    }\n",
       "</style>\n",
       "<table border=\"1\" class=\"dataframe\">\n",
       "  <thead>\n",
       "    <tr style=\"text-align: right;\">\n",
       "      <th></th>\n",
       "      <th>MODELYEAR</th>\n",
       "      <th>MAKE</th>\n",
       "      <th>MODEL</th>\n",
       "      <th>VEHICLECLASS</th>\n",
       "      <th>ENGINESIZE</th>\n",
       "      <th>CYLINDERS</th>\n",
       "      <th>TRANSMISSION</th>\n",
       "      <th>FUELTYPE</th>\n",
       "      <th>FUELCONSUMPTION_CITY</th>\n",
       "      <th>FUELCONSUMPTION_HWY</th>\n",
       "      <th>FUELCONSUMPTION_COMB</th>\n",
       "      <th>FUELCONSUMPTION_COMB_MPG</th>\n",
       "      <th>CO2EMISSIONS</th>\n",
       "    </tr>\n",
       "  </thead>\n",
       "  <tbody>\n",
       "    <tr>\n",
       "      <th>0</th>\n",
       "      <td>2014</td>\n",
       "      <td>ACURA</td>\n",
       "      <td>ILX</td>\n",
       "      <td>COMPACT</td>\n",
       "      <td>2.0</td>\n",
       "      <td>4</td>\n",
       "      <td>AS5</td>\n",
       "      <td>Z</td>\n",
       "      <td>9.9</td>\n",
       "      <td>6.7</td>\n",
       "      <td>8.5</td>\n",
       "      <td>33</td>\n",
       "      <td>196</td>\n",
       "    </tr>\n",
       "    <tr>\n",
       "      <th>1</th>\n",
       "      <td>2014</td>\n",
       "      <td>ACURA</td>\n",
       "      <td>ILX</td>\n",
       "      <td>COMPACT</td>\n",
       "      <td>2.4</td>\n",
       "      <td>4</td>\n",
       "      <td>M6</td>\n",
       "      <td>Z</td>\n",
       "      <td>11.2</td>\n",
       "      <td>7.7</td>\n",
       "      <td>9.6</td>\n",
       "      <td>29</td>\n",
       "      <td>221</td>\n",
       "    </tr>\n",
       "    <tr>\n",
       "      <th>2</th>\n",
       "      <td>2014</td>\n",
       "      <td>ACURA</td>\n",
       "      <td>ILX HYBRID</td>\n",
       "      <td>COMPACT</td>\n",
       "      <td>1.5</td>\n",
       "      <td>4</td>\n",
       "      <td>AV7</td>\n",
       "      <td>Z</td>\n",
       "      <td>6.0</td>\n",
       "      <td>5.8</td>\n",
       "      <td>5.9</td>\n",
       "      <td>48</td>\n",
       "      <td>136</td>\n",
       "    </tr>\n",
       "    <tr>\n",
       "      <th>3</th>\n",
       "      <td>2014</td>\n",
       "      <td>ACURA</td>\n",
       "      <td>MDX 4WD</td>\n",
       "      <td>SUV - SMALL</td>\n",
       "      <td>3.5</td>\n",
       "      <td>6</td>\n",
       "      <td>AS6</td>\n",
       "      <td>Z</td>\n",
       "      <td>12.7</td>\n",
       "      <td>9.1</td>\n",
       "      <td>11.1</td>\n",
       "      <td>25</td>\n",
       "      <td>255</td>\n",
       "    </tr>\n",
       "    <tr>\n",
       "      <th>4</th>\n",
       "      <td>2014</td>\n",
       "      <td>ACURA</td>\n",
       "      <td>RDX AWD</td>\n",
       "      <td>SUV - SMALL</td>\n",
       "      <td>3.5</td>\n",
       "      <td>6</td>\n",
       "      <td>AS6</td>\n",
       "      <td>Z</td>\n",
       "      <td>12.1</td>\n",
       "      <td>8.7</td>\n",
       "      <td>10.6</td>\n",
       "      <td>27</td>\n",
       "      <td>244</td>\n",
       "    </tr>\n",
       "  </tbody>\n",
       "</table>\n",
       "</div>"
      ],
      "text/plain": [
       "   MODELYEAR   MAKE       MODEL VEHICLECLASS  ENGINESIZE  CYLINDERS  \\\n",
       "0       2014  ACURA         ILX      COMPACT         2.0          4   \n",
       "1       2014  ACURA         ILX      COMPACT         2.4          4   \n",
       "2       2014  ACURA  ILX HYBRID      COMPACT         1.5          4   \n",
       "3       2014  ACURA     MDX 4WD  SUV - SMALL         3.5          6   \n",
       "4       2014  ACURA     RDX AWD  SUV - SMALL         3.5          6   \n",
       "\n",
       "  TRANSMISSION FUELTYPE  FUELCONSUMPTION_CITY  FUELCONSUMPTION_HWY  \\\n",
       "0          AS5        Z                   9.9                  6.7   \n",
       "1           M6        Z                  11.2                  7.7   \n",
       "2          AV7        Z                   6.0                  5.8   \n",
       "3          AS6        Z                  12.7                  9.1   \n",
       "4          AS6        Z                  12.1                  8.7   \n",
       "\n",
       "   FUELCONSUMPTION_COMB  FUELCONSUMPTION_COMB_MPG  CO2EMISSIONS  \n",
       "0                   8.5                        33           196  \n",
       "1                   9.6                        29           221  \n",
       "2                   5.9                        48           136  \n",
       "3                  11.1                        25           255  \n",
       "4                  10.6                        27           244  "
      ]
     },
     "execution_count": 3,
     "metadata": {},
     "output_type": "execute_result"
    }
   ],
   "source": [
    "# Extract the Data of rate of fuel Consumption in Nigeria\n",
    "data = pd.read_csv(\"/home/zubrah/Downloads/FuelConsumptionCo2.csv\")\n",
    "data.head()"
   ]
  },
  {
   "cell_type": "code",
   "execution_count": 4,
   "id": "spanish-finland",
   "metadata": {},
   "outputs": [],
   "source": [
    "# create an area of focus\n",
    "data = data[[\"ENGINESIZE\", \"CO2EMISSIONS\"]]"
   ]
  },
  {
   "cell_type": "code",
   "execution_count": 5,
   "id": "interested-reader",
   "metadata": {},
   "outputs": [
    {
     "data": {
      "image/png": "[encoded data removed]",
      "text/plain": [
       "<Figure size 432x288 with 1 Axes>"
      ]
     },
     "metadata": {
      "needs_background": "light"
     },
     "output_type": "display_data"
    }
   ],
   "source": [
    "plt.scatter(data[\"ENGINESIZE\"], data[\"CO2EMISSIONS\"] , color=\"red\")\n",
    "plt.xlabel(\"ENGINESIZE\")\n",
    "plt.ylabel(\"CO2EMISSIONS\")\n",
    "plt.title(\"A Graph of EngineSize vs Fuel Consumptions in Nigeria\")\n",
    "plt.show()"
   ]
  },
  {
   "cell_type": "code",
   "execution_count": 7,
   "id": "closing-proof",
   "metadata": {},
   "outputs": [],
   "source": [
    "#categorize the data into train and test\n",
    "train = data[:(int((len(data)*0.8)))]\n",
    "test = data[(int((len(data)*0.8))):]"
   ]
  },
  {
   "cell_type": "code",
   "execution_count": 8,
   "id": "greek-stylus",
   "metadata": {},
   "outputs": [
    {
     "name": "stdout",
     "output_type": "stream",
     "text": [
      "The coefficient is : [[38.79512384]]\n",
      "The intercept of the data is :  [127.16989951]\n"
     ]
    }
   ],
   "source": [
    "# perform a linear regression using scikit learn model\n",
    "regr = linear_model.LinearRegression()\n",
    "train_x = np.array(train[[\"ENGINESIZE\"]])\n",
    "train_y = np.array(train[[\"CO2EMISSIONS\"]])\n",
    "\n",
    "regr.fit(train_x , train_y)\n",
    "\n",
    "#coefficients\n",
    "print(\"The coefficient is :\", regr.coef_) #Slope\n",
    "print(\"The intercept of the data is : \", regr.intercept_) #Intercept"
   ]
  },
  {
   "cell_type": "code",
   "execution_count": 9,
   "id": "handed-atlanta",
   "metadata": {},
   "outputs": [
    {
     "data": {
      "image/png": "[encoded data removed]",
      "text/plain": [
       "<Figure size 432x288 with 1 Axes>"
      ]
     },
     "metadata": {
      "needs_background": "light"
     },
     "output_type": "display_data"
    }
   ],
   "source": [
    "# Plotting the regression line:\n",
    "plt.scatter(train[\"ENGINESIZE\"], train[\"CO2EMISSIONS\"], color= 'red')\n",
    "plt.plot(train_x, regr.coef_*train_x + regr.intercept_, '-b')\n",
    "plt.xlabel(\"ENGINESIZE\")\n",
    "plt.ylabel(\"EMMISSIONS\")\n",
    "plt.title(\"A GRAPH OF ENGINE SIZE VS EMMISSIONS \")\n",
    "plt.show()"
   ]
  },
  {
   "cell_type": "code",
   "execution_count": 11,
   "id": "metropolitan-blast",
   "metadata": {},
   "outputs": [],
   "source": [
    "# Predicting values:\n",
    "# Function for predicting future values \n",
    "def get_regression_predictions(input_features, intercept, slope):\n",
    "    predicted_values = input_features*slope + intercept\n",
    "    return predicted_values"
   ]
  },
  {
   "cell_type": "code",
   "execution_count": 12,
   "id": "expanded-baghdad",
   "metadata": {},
   "outputs": [
    {
     "name": "stdout",
     "output_type": "stream",
     "text": [
      "Estimated Emission size is :  709.0967570496674\n"
     ]
    }
   ],
   "source": [
    "# Predicting emission for future car:\n",
    "my_engine_size = 15.0\n",
    "estimated_emission = get_regression_predictions(my_engine_size, regr.intercept_[0], regr.coef_[0][0])\n",
    "print(\"Estimated Emission size is : \", estimated_emission)\n"
   ]
  },
  {
   "cell_type": "code",
   "execution_count": 17,
   "id": "guided-painting",
   "metadata": {},
   "outputs": [
    {
     "name": "stdout",
     "output_type": "stream",
     "text": [
      "Mean absolute error : 20.60\n",
      "Mean sum of squares(MSE): 746.45\n",
      "R2-score : 0.71\n"
     ]
    }
   ],
   "source": [
    "# Checking various accuracy:\n",
    "from sklearn.metrics import r2_score\n",
    "test_x = np.array(test[[\"ENGINESIZE\"]])\n",
    "test_y = np.array(test[[\"CO2EMISSIONS\"]])\n",
    "test_y_ = regr.predict(test_x)\n",
    "print(\"Mean absolute error : %.2f\" % np.mean(np.absolute(test_y_ - test_y)))\n",
    "print(\"Mean sum of squares(MSE): %.2f\" % np.mean((test_y_ - test_y) ** 2))\n",
    "print(\"R2-score : %.2f\" %r2_score(test_y_ , test_y))"
   ]
  },
  {
   "cell_type": "code",
   "execution_count": null,
   "id": "affected-pierre",
   "metadata": {},
   "outputs": [],
   "source": []
  },
  {
   "cell_type": "code",
   "execution_count": null,
   "id": "premium-kentucky",
   "metadata": {},
   "outputs": [],
   "source": []
  },
  {
   "cell_type": "code",
   "execution_count": null,
   "id": "saved-journal",
   "metadata": {},
   "outputs": [],
   "source": []
  }
 ],
 "metadata": {
  "kernelspec": {
   "display_name": "Python 3",
   "language": "python",
   "name": "python3"
  },
  "language_info": {
   "codemirror_mode": {
    "name": "ipython",
    "version": 3
   },
   "file_extension": ".py",
   "mimetype": "text/x-python",
   "name": "python",
   "nbconvert_exporter": "python",
   "pygments_lexer": "ipython3",
   "version": "3.8.5"
  }
 },
 "nbformat": 4,
 "nbformat_minor": 5
}
